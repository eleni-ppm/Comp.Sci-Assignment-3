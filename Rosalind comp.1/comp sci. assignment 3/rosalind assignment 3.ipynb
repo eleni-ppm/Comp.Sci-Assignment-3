{
 "cells": [
  {
   "cell_type": "markdown",
   "metadata": {},
   "source": [
    "#Rosalind challenge lgis "
   ]
  },
  {
   "cell_type": "code",
   "execution_count": 40,
   "metadata": {},
   "outputs": [
    {
     "name": "stdout",
     "output_type": "stream",
     "text": [
      "Requirement already satisfied: Bio in c:\\users\\epapa\\appdata\\local\\programs\\python\\python312\\lib\\site-packages (1.7.1)Note: you may need to restart the kernel to use updated packages.\n"
     ]
    },
    {
     "name": "stderr",
     "output_type": "stream",
     "text": [
      "\n",
      "[notice] A new release of pip is available: 23.2.1 -> 24.3.1\n",
      "[notice] To update, run: python.exe -m pip install --upgrade pip\n"
     ]
    },
    {
     "name": "stdout",
     "output_type": "stream",
     "text": [
      "\n",
      "Requirement already satisfied: biopython>=1.80 in c:\\users\\epapa\\appdata\\local\\programs\\python\\python312\\lib\\site-packages (from Bio) (1.84)\n",
      "Requirement already satisfied: gprofiler-official in c:\\users\\epapa\\appdata\\local\\programs\\python\\python312\\lib\\site-packages (from Bio) (1.0.0)\n",
      "Requirement already satisfied: mygene in c:\\users\\epapa\\appdata\\local\\programs\\python\\python312\\lib\\site-packages (from Bio) (3.2.2)\n",
      "Requirement already satisfied: pandas in c:\\users\\epapa\\appdata\\local\\programs\\python\\python312\\lib\\site-packages (from Bio) (2.2.3)\n",
      "Requirement already satisfied: pooch in c:\\users\\epapa\\appdata\\local\\programs\\python\\python312\\lib\\site-packages (from Bio) (1.8.2)\n",
      "Requirement already satisfied: requests in c:\\users\\epapa\\appdata\\local\\programs\\python\\python312\\lib\\site-packages (from Bio) (2.32.3)\n",
      "Requirement already satisfied: tqdm in c:\\users\\epapa\\appdata\\local\\programs\\python\\python312\\lib\\site-packages (from Bio) (4.67.0)\n",
      "Requirement already satisfied: numpy in c:\\users\\epapa\\appdata\\local\\programs\\python\\python312\\lib\\site-packages (from biopython>=1.80->Bio) (2.1.3)\n",
      "Requirement already satisfied: biothings-client>=0.2.6 in c:\\users\\epapa\\appdata\\local\\programs\\python\\python312\\lib\\site-packages (from mygene->Bio) (0.3.1)\n",
      "Requirement already satisfied: python-dateutil>=2.8.2 in c:\\users\\epapa\\appdata\\roaming\\python\\python312\\site-packages (from pandas->Bio) (2.9.0.post0)\n",
      "Requirement already satisfied: pytz>=2020.1 in c:\\users\\epapa\\appdata\\local\\programs\\python\\python312\\lib\\site-packages (from pandas->Bio) (2024.2)\n",
      "Requirement already satisfied: tzdata>=2022.7 in c:\\users\\epapa\\appdata\\local\\programs\\python\\python312\\lib\\site-packages (from pandas->Bio) (2024.2)\n",
      "Requirement already satisfied: platformdirs>=2.5.0 in c:\\users\\epapa\\appdata\\roaming\\python\\python312\\site-packages (from pooch->Bio) (4.3.6)\n",
      "Requirement already satisfied: packaging>=20.0 in c:\\users\\epapa\\appdata\\roaming\\python\\python312\\site-packages (from pooch->Bio) (24.1)\n",
      "Requirement already satisfied: charset-normalizer<4,>=2 in c:\\users\\epapa\\appdata\\local\\programs\\python\\python312\\lib\\site-packages (from requests->Bio) (3.4.0)\n",
      "Requirement already satisfied: idna<4,>=2.5 in c:\\users\\epapa\\appdata\\local\\programs\\python\\python312\\lib\\site-packages (from requests->Bio) (3.10)\n",
      "Requirement already satisfied: urllib3<3,>=1.21.1 in c:\\users\\epapa\\appdata\\local\\programs\\python\\python312\\lib\\site-packages (from requests->Bio) (2.2.3)\n",
      "Requirement already satisfied: certifi>=2017.4.17 in c:\\users\\epapa\\appdata\\local\\programs\\python\\python312\\lib\\site-packages (from requests->Bio) (2024.8.30)\n",
      "Requirement already satisfied: colorama in c:\\users\\epapa\\appdata\\roaming\\python\\python312\\site-packages (from tqdm->Bio) (0.4.6)\n",
      "Requirement already satisfied: six>=1.5 in c:\\users\\epapa\\appdata\\roaming\\python\\python312\\site-packages (from python-dateutil>=2.8.2->pandas->Bio) (1.16.0)\n"
     ]
    }
   ],
   "source": [
    "%pip install Bio"
   ]
  },
  {
   "cell_type": "code",
   "execution_count": 20,
   "metadata": {},
   "outputs": [
    {
     "name": "stdout",
     "output_type": "stream",
     "text": [
      "3 [1, 2, 3]\n",
      "3 [5, 4, 2]\n"
     ]
    },
    {
     "data": {
      "text/plain": [
       "([1, 2, 2, 3, 3], [[5], [5, 1], [5, 4], [5, 4, 2], [5, 4, 3]])"
      ]
     },
     "execution_count": 20,
     "metadata": {},
     "output_type": "execute_result"
    }
   ],
   "source": [
    "def LIS(nums, n):\n",
    "    dp = [] \n",
    "    dp_list = [] #list\n",
    "\n",
    "    for i in range(n):\n",
    "        dp.append(1)\n",
    "        dp_list.append([nums[i]])\n",
    "        for j in range(i):\n",
    "            if nums[j] < nums[i]:\n",
    "                dp[i] = max(dp[i], dp[j] + 1)\n",
    "                if len(dp_list[i]) <= len(dp_list[j]):\n",
    "                    dp_list[i] = dp_list[j] + [nums[i]]\n",
    "    \n",
    "    print(max(dp), dp_list[dp.index(max(dp))])\n",
    "    return dp, dp_list\n",
    "\n",
    "# Longest Decreasing Subsequence\n",
    "def LDS(nums, n):\n",
    "    dp = [] \n",
    "    dp_list = [] \n",
    "\n",
    "    for i in range(n):\n",
    "        dp.append(1)\n",
    "        dp_list.append([nums[i]])\n",
    "        for j in range(i):\n",
    "            if nums[j] > nums[i]:\n",
    "                dp[i] = max(dp[i], dp[j] + 1)\n",
    "                if len(dp_list[i]) <= len(dp_list[j]):\n",
    "                    dp_list[i] = dp_list[j] + [nums[i]]\n",
    "    \n",
    "    print(max(dp), dp_list[dp.index(max(dp))])\n",
    "    return dp, dp_list\n",
    "\n",
    "\n",
    "\n",
    "if __name__ == \"__main__\":\n",
    "    with open(\"lgis.txt\", \"r\") as f:\n",
    "        n = int(f.readline().strip())\n",
    "        nums = [int(i) for i in f.readline().strip().split(\" \")]\n",
    "\n",
    "LIS(nums, n)\n",
    "LDS(nums, n)\n",
    "    "
   ]
  },
  {
   "cell_type": "markdown",
   "metadata": {},
   "source": [
    "#Rosalind challenge sseq"
   ]
  },
  {
   "cell_type": "code",
   "execution_count": 69,
   "metadata": {},
   "outputs": [
    {
     "name": "stdout",
     "output_type": "stream",
     "text": [
      "4 7 10 12 15 19 21 23 28 37 40 46 50 59 60 61 63 65 69 73 75 80 85 89 94 95 98 103 108 110 124 126 129 137 152 154 157 161 179 180 182\n"
     ]
    }
   ],
   "source": [
    "from Bio import SeqIO\n",
    "\n",
    "def find_spliced_motif(s, t):\n",
    "    position = [] \n",
    "    current_position = 0  \n",
    "    \n",
    "\n",
    "    for i in t:\n",
    "        current_pos = s[current_position:].find(i)\n",
    "        if current_pos == -1:\n",
    "            print(\" \", i)\n",
    "            return\n",
    "        \n",
    "        position.append(current_position + current_pos + 1)\n",
    "        \n",
    "        current_position += current_pos + 1\n",
    "    \n",
    "    print(\" \".join(map(str, position)))\n",
    "\n",
    "if __name__ == \"__main__\":\n",
    "    seq_name, seq_string = [], []\n",
    "    \n",
    "    with open(\"sseq.fasta.txt\", 'r') as fa:\n",
    "        for seq_record in SeqIO.parse(fa, 'fasta'):\n",
    "            seq_name.append(str(seq_record.name))\n",
    "            seq_string.append(str(seq_record.seq))\n",
    "    \n",
    "    s, t = seq_string[0], seq_string[1]\n",
    "\n",
    "    find_spliced_motif(s,t)\n",
    "\n",
    "\n",
    "\n",
    "\n",
    "    \n",
    "\n",
    "\n",
    "\n",
    "\n"
   ]
  },
  {
   "cell_type": "markdown",
   "metadata": {},
   "source": [
    "#Rosalind challenge lcsq"
   ]
  },
  {
   "cell_type": "code",
   "execution_count": 22,
   "metadata": {},
   "outputs": [
    {
     "name": "stdout",
     "output_type": "stream",
     "text": [
      "AACTTG\n"
     ]
    }
   ],
   "source": [
    "from Bio import SeqIO\n",
    "\n",
    "\"\"\" longest common subsequence cheat sheet:\n",
    "X and Y be two given sequences\n",
    "Initialize a table LCS of dimension X.length * Y.length\n",
    "X.label = X\n",
    "Y.label = Y\n",
    "LCS[0][] = 0\n",
    "LCS[][0] = 0\n",
    "Start from LCS[1][1]\n",
    "Compare X[i] and Y[j]\n",
    "    If X[i] = Y[j]\n",
    "        LCS[i][j] = 1 + LCS[i-1, j-1]   \n",
    "        Point an arrow to LCS[i][j]\n",
    "    Else\n",
    "        LCS[i][j] = max(LCS[i-1][j], LCS[i][j-1])\n",
    "        Point an arrow to max(LCS[i-1][j], LCS[i][j-1])\"\"\"\n",
    "\n",
    "\n",
    "def longestCommonSubsequence(s, t):\n",
    "    m, n = len(s), len(t)\n",
    "    \n",
    "    #Initializing\n",
    "    dp = [[0] * (n + 1) for _ in range(m + 1)]\n",
    "    \n",
    "    #Filling\n",
    "    for i, x in enumerate(s):\n",
    "        for j, y in enumerate(t):\n",
    "            if x == y:\n",
    "                dp[i+1][j+1] = 1 + dp[i][j]\n",
    "            else:\n",
    "                dp[i+1][j+1] = max(dp[i+1][j], dp[i][j+1])\n",
    "    \n",
    "    \n",
    "    longest_common_subsequence = \"\"\n",
    "    while m * n != 0:\n",
    "        if dp[m][n] == dp[m-1][n]:\n",
    "            m -= 1\n",
    "        elif dp[m][n] == dp[m][n-1]:\n",
    "            n -= 1\n",
    "        else:\n",
    "            longest_common_subsequence += s[m-1]\n",
    "            m -= 1\n",
    "            n -= 1\n",
    "    \n",
    "    #reversing :3\n",
    "    return longest_common_subsequence[::-1]\n",
    "\n",
    "if __name__ == \"__main__\":\n",
    "    seq_name, seq_string = [], []\n",
    "    with open(\"lcsq.fasta.txt\", \"r\") as fa:\n",
    "        for seq_record in SeqIO.parse(fa, \"fasta\"):\n",
    "            seq_name.append(seq_record.name)\n",
    "            seq_string.append(str(seq_record.seq))\n",
    "    \n",
    "    \n",
    "    s, t = seq_string\n",
    "    lcs = longestCommonSubsequence(s, t)\n",
    "    \n",
    "    print(lcs)\n"
   ]
  },
  {
   "cell_type": "markdown",
   "metadata": {},
   "source": [
    "#Rosalind edit challenge"
   ]
  },
  {
   "cell_type": "code",
   "execution_count": 23,
   "metadata": {},
   "outputs": [
    {
     "name": "stdout",
     "output_type": "stream",
     "text": [
      "5\n"
     ]
    }
   ],
   "source": [
    "from Bio import SeqIO\n",
    "\n",
    "def EditDistance(s, t):\n",
    "    \"\"\"\n",
    "    :type s: str\n",
    "    :type t: str\n",
    "    \"\"\"\n",
    "    n = len(s)\n",
    "    m = len(t)\n",
    "    \n",
    "    #if empty\n",
    "    if n * m == 0:\n",
    "        return n + m\n",
    "    \n",
    "    #Dp\n",
    "    D = [ [0] * (m + 1) for _ in range(n + 1)]\n",
    "    \n",
    "    \n",
    "    for i in range(n + 1):\n",
    "        D[i][0] = i\n",
    "    for j in range(m + 1):\n",
    "        D[0][j] = j\n",
    "    \n",
    "    \n",
    "    for i in range(1, n + 1):\n",
    "        for j in range(1, m + 1):\n",
    "            left = D[i - 1][j] + 1\n",
    "            down = D[i][j - 1] + 1\n",
    "            left_down = D[i - 1][j - 1] \n",
    "            if s[i - 1] != t[j - 1]:\n",
    "                left_down += 1\n",
    "            D[i][j] = min(left, down, left_down)\n",
    "    \n",
    "    return D[n][m]\n",
    "\n",
    "if __name__ == \"__main__\":\n",
    "    seq_name, seq_string = [], []\n",
    "    with open(\"edit.fasta.txt\", \"r\") as fa:\n",
    "        for seq_record in SeqIO.parse(fa, \"fasta\"):\n",
    "            seq_name.append(seq_record.name)\n",
    "            seq_string.append(str(seq_record.seq))\n",
    "    s, t = seq_string\n",
    "    print(EditDistance(s, t))"
   ]
  },
  {
   "cell_type": "markdown",
   "metadata": {},
   "source": [
    "#Rosalind edta challenge"
   ]
  },
  {
   "cell_type": "code",
   "execution_count": 24,
   "metadata": {},
   "outputs": [
    {
     "name": "stdout",
     "output_type": "stream",
     "text": [
      "4\n",
      "PRETTY--\n",
      "PR-TTEIN\n"
     ]
    }
   ],
   "source": [
    "import pprint\n",
    "from Bio import SeqIO\n",
    "\n",
    "def EditDistanceAlignment(s, t):\n",
    "    m, n = len(s), len(t)\n",
    "    if m*n==0:\n",
    "        return m+n\n",
    "    DP = [[0]*(n+1) for _ in range(m+1)]\n",
    "    for i in range(m+1):\n",
    "        DP[i][0] = i\n",
    "    for j in range(n+1):\n",
    "        DP[0][j] = j\n",
    "    for i in range(1, m+1):\n",
    "        for j in range(1, n+1):\n",
    "            left = DP[i-1][j] + 1\n",
    "            down = DP[i][j-1] + 1\n",
    "            left_down = DP[i-1][j-1]\n",
    "            if s[i-1] != t[j-1]:\n",
    "                left_down += 1\n",
    "            DP[i][j] = min(left, down, left_down)\n",
    "    #pprint.pprint(DP)\n",
    "    edit_distance = DP[m][n]\n",
    "    print(edit_distance)\n",
    "\n",
    "    s_, t_ = \"\", \"\"\n",
    "    i, j = 0, 0\n",
    "    i, j = len(s), len(t)\n",
    "    while (i>0 and j>0):\n",
    "        left = DP[i][j-1]\n",
    "        top = DP[i-1][j]\n",
    "        left_top = DP[i-1][j-1]\n",
    "        min_ = min(left, top, left_top)\n",
    "        if DP[i][j]==min_:\n",
    "            s_ = s[i-1]+s_\n",
    "            t_ = t[j-1]+t_\n",
    "            i -= 1\n",
    "            j -= 1\n",
    "        else:\n",
    "            if (min_==left and min_==top) or (min_!=left and min_!=top):\n",
    "                s_ = s[i-1]+s_\n",
    "                t_ = t[j-1]+t_\n",
    "                i -= 1\n",
    "                j -= 1\n",
    "            elif min_!=left and min_==top:\n",
    "                s_ = s[i-1]+s_\n",
    "                t_ = \"-\"+t_\n",
    "                i -= 1\n",
    "            elif min_==left and min_!=top:\n",
    "                s_ = \"-\"+s_\n",
    "                t_ = t[j-1]+t_\n",
    "                j -= 1\n",
    "    print(s_)\n",
    "    print(t_)\n",
    "    return DP\n",
    "\n",
    "if __name__ == \"__main__\":\n",
    "    seq_name, seq_string = [], []\n",
    "    with open(\"edta.fasta.txt\", \"r\") as fa:\n",
    "        for seq_record in SeqIO.parse(fa, \"fasta\"):\n",
    "            seq_name.append(seq_record.name)\n",
    "            seq_string.append(str(seq_record.seq))\n",
    "    s, t = seq_string\n",
    "    res = EditDistanceAlignment(s, t)"
   ]
  },
  {
   "cell_type": "markdown",
   "metadata": {},
   "source": [
    "#Rosalind glob challenge"
   ]
  },
  {
   "cell_type": "code",
   "execution_count": 25,
   "metadata": {},
   "outputs": [
    {
     "name": "stdout",
     "output_type": "stream",
     "text": [
      "8.0\n"
     ]
    }
   ],
   "source": [
    "import blosum as bl\n",
    "matrix = bl.BLOSUM(62)\n",
    "val = matrix[\"A\"][\"Y\"]\n",
    "\n",
    "from Bio import SeqIO\n",
    "\n",
    "gap_penalty = -5\n",
    "\n",
    "\n",
    "\n",
    "def global_alignment(s, t):\n",
    "    m, n = len(s), len(t)\n",
    "\n",
    "    \n",
    "    dp = [[0] * (n + 1) for _ in range(m + 1)]\n",
    "\n",
    "    \n",
    "    for i in range(1, m + 1):\n",
    "        dp[i][0] = dp[i-1][0] + gap_penalty\n",
    "    for j in range(1, n + 1):\n",
    "        dp[0][j] = dp[0][j-1] + gap_penalty\n",
    "\n",
    "    \n",
    "    for i in range(1, m + 1):\n",
    "        for j in range(1, n + 1):\n",
    "            \n",
    "            substitution = dp[i-1][j-1] + matrix[s[i-1]][t[j-1]]\n",
    "\n",
    "            \n",
    "            insertion = dp[i][j-1] + gap_penalty\n",
    "\n",
    "            \n",
    "            deletion = dp[i-1][j] + gap_penalty\n",
    "\n",
    "            \n",
    "            dp[i][j] = max(substitution, insertion, deletion)\n",
    "\n",
    "    \n",
    "    return dp[m][n]\n",
    "\n",
    "if __name__ == \"__main__\":\n",
    "    seq_name, seq_string = [], []\n",
    "    with open(\"glob.fasta.txt\", \"r\") as fa:\n",
    "        for seq_record in SeqIO.parse(fa, \"fasta\"):\n",
    "            seq_name.append(seq_record.name)\n",
    "            seq_string.append(str(seq_record.seq))\n",
    "\n",
    "    \n",
    "    s, t = seq_string\n",
    "\n",
    "    \n",
    "    print(global_alignment(s, t))"
   ]
  },
  {
   "cell_type": "markdown",
   "metadata": {},
   "source": [
    "#Rosalind ctea challenge, >:()"
   ]
  },
  {
   "cell_type": "code",
   "execution_count": 38,
   "metadata": {},
   "outputs": [
    {
     "name": "stdout",
     "output_type": "stream",
     "text": [
      "0\n",
      "4\n"
     ]
    }
   ],
   "source": [
    "from Bio import SeqIO\n",
    "\n",
    "modulo = 134217727\n",
    "\n",
    "def optimal_alignment(s,t):\n",
    "    modulo = 134217727\n",
    "    m, n = len(s), len(t)\n",
    "\n",
    "    dp = [[0]*(n+1) for _ in range (m+1)]\n",
    "    ways = [[0]*(n+1) for _ in range (m+1)]\n",
    "\n",
    "    #to initialise, leave it blank, we do nothing \n",
    "    dp[0][0] = 0\n",
    "    ways[0][0] = 1\n",
    "\n",
    "    for i in range(1, m + 1):\n",
    "        dp[i][0] = i  \n",
    "        ways[i][0] = 1  \n",
    "\n",
    "    for j in range(1, n + 1):\n",
    "        dp[0][j] = j \n",
    "        ways[0][j] = 1\n",
    "\n",
    "    #filling the arrays\n",
    "    for i in range(m+1):\n",
    "        for j in range(n+1):\n",
    " # deletion case: dp[i-1][j] + 1\n",
    "         if i>0:\n",
    "             if dp[i-1][j] + 1 < dp[i][j]:\n",
    "               dp[i][j] = dp[i-1][j] +1 \n",
    "               ways[i][j] = ways[i-1][j]\n",
    "             elif dp [i-1][j] +1 == dp[i][j]:\n",
    "               ways[i][j] = (ways[i][j]+ways[i-1][j]) % modulo\n",
    " # insertion case: dp[i][j-1] +1 \n",
    "         if j>0:\n",
    "             if dp[i][j-1] + 1 < dp[i][j]:\n",
    "               dp[i][j] = dp[i][j-1] +1 \n",
    "               ways[i][j] = ways[i][j-1]\n",
    "             elif dp[i][j-1]+1 == dp[i][j]:\n",
    "               ways[i][j] = (ways[i][j] + ways[i][j-1]) % modulo\n",
    " #substitution case: dp[i-1][j-1] + cost(s[i-1],t[j-1])\n",
    "         if i>0 and j >0:\n",
    "            cost = 0 if s[i-1] == t[j-1] else 1\n",
    "            if dp[i-1][j-1] + cost < dp[i][j]:\n",
    "               dp[i][j] = dp[i-1][j-1] + cost\n",
    "               ways[i][j] = ways[i-1][j-1]\n",
    "            elif dp[i-1][j-1] + cost == dp[i][j]:\n",
    "               ways[i][j] = (ways[i][j] + ways[i-1][j-1] + cost )% modulo\n",
    "    \n",
    "    return ways[m][n]\n",
    "\n",
    "\n",
    "\n",
    "if __name__ == \"__main__\":\n",
    "    seq_name, seq_string = [], []\n",
    "    with open(\"ctea.fasta.txt\", \"r\") as fa:\n",
    "        for seq_record in SeqIO.parse(fa, \"fasta\"):\n",
    "            seq_name.append(seq_record.name)\n",
    "            seq_string.append(str(seq_record.seq))\n",
    "    s, t = seq_string\n",
    "    res = optimal_alignment(s, t)\n",
    "    print(optimal_alignment(s,t))\n",
    "\n",
    "#what \n",
    "\n",
    "\n",
    "\n",
    "\n",
    "import numpy as np\n",
    "\n",
    "\n",
    "def ReadFASTA(filename):\n",
    "    seqs = []\n",
    "    with open(filename, 'r') as f:\n",
    "        for record in SeqIO.parse(f, 'fasta'):\n",
    "            seqs.append(str(record.seq))\n",
    "    return seqs\n",
    "\n",
    "def optimal_alignment(v, w):\n",
    "    modulo = 134217727  \n",
    "    n, m = len(v), len(w)\n",
    "    S = np.zeros((n + 1, m + 1), dtype=int) \n",
    "    count = np.zeros((n + 1, m + 1), dtype=int)  \n",
    "    \n",
    "    for i in range(n + 1):\n",
    "        S[i][0] = i\n",
    "        count[i][0] = 1\n",
    "    for j in range(1, m + 1):\n",
    "        S[0][j] = j\n",
    "        count[0][j] = 1\n",
    "    \n",
    "    for i in range(1, n + 1):\n",
    "        for j in range(1, m + 1):\n",
    "            substitution_cost = S[i - 1][j - 1] + (v[i - 1] != w[j - 1])  \n",
    "            insertion_cost = S[i - 1][j] + 1  \n",
    "            deletion_cost = S[i][j - 1] + 1  \n",
    "\n",
    "            S[i][j] = min(substitution_cost, insertion_cost, deletion_cost)\n",
    "            \n",
    "            if S[i][j] == substitution_cost:\n",
    "                count[i][j] += count[i - 1][j - 1]\n",
    "            if S[i][j] == insertion_cost:\n",
    "                count[i][j] += count[i - 1][j]\n",
    "            if S[i][j] == deletion_cost:\n",
    "                count[i][j] += count[i][j - 1]\n",
    "            \n",
    "            count[i][j] %= modulo\n",
    "\n",
    "    return count[n][m]\n",
    "\n",
    "\n",
    "if __name__ == \"__main__\":\n",
    "    seqs = ReadFASTA('ctea.fasta.txt')\n",
    "    s, t = seqs[0], seqs[1]\n",
    "\n",
    "    count = optimal_alignment(s, t)\n",
    "\n",
    "    print(count)\n",
    "\n",
    "\n",
    "\n",
    "\n",
    "\n",
    "\n",
    "\n",
    "\n"
   ]
  }
 ],
 "metadata": {
  "kernelspec": {
   "display_name": "base",
   "language": "python",
   "name": "python3"
  },
  "language_info": {
   "codemirror_mode": {
    "name": "ipython",
    "version": 3
   },
   "file_extension": ".py",
   "mimetype": "text/x-python",
   "name": "python",
   "nbconvert_exporter": "python",
   "pygments_lexer": "ipython3",
   "version": "3.11.5"
  }
 },
 "nbformat": 4,
 "nbformat_minor": 2
}
